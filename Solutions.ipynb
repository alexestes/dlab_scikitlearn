{
 "cells": [
  {
   "cell_type": "markdown",
   "metadata": {},
   "source": [
    "# Classification"
   ]
  },
  {
   "cell_type": "markdown",
   "metadata": {},
   "source": [
    "## Part 1"
   ]
  },
  {
   "cell_type": "code",
   "execution_count": null,
   "metadata": {
    "collapsed": false
   },
   "outputs": [],
   "source": [
    "from sklearn.datasets import load_iris\n",
    "from sklearn.ensemble import AdaBoostClassifier\n",
    "from sklearn.cross_validation import train_test_split\n",
    "\n",
    "iris = load_iris()\n",
    "\n",
    "X_train, X_test, y_train, y_test = train_test_split(iris.data, iris.target,\n",
    "                                                    train_size=0.75, test_size=0.25)\n",
    "\n",
    "ada = AdaBoostClassifier(n_estimators=100,\n",
    "                         learning_rate=.5,\n",
    "                         random_state=10)\n",
    "\n",
    "ada.fit(X_train, y_train)\n",
    "\n",
    "ada.score(X_test, y_test)"
   ]
  },
  {
   "cell_type": "markdown",
   "metadata": {},
   "source": [
    "## Part 2"
   ]
  },
  {
   "cell_type": "code",
   "execution_count": null,
   "metadata": {
    "collapsed": false
   },
   "outputs": [],
   "source": [
    "from sklearn.model_selection import GridSearchCV\n",
    "import numpy as np\n",
    "\n",
    "param_grid = {'n_estimators': range(50, 550, 50),\n",
    "             'learning_rate': np.arange(.1, 1.1, .1)}\n",
    "\n",
    "model_a = GridSearchCV(AdaBoostClassifier(random_state=10), param_grid)\n",
    "model_a.fit(X_train, y_train)\n",
    "\n",
    "best_index = np.argmax(model_a.cv_results_[\"mean_test_score\"])\n",
    "\n",
    "print(\"Best index:\", model_a.cv_results_[\"params\"][best_index])\n",
    "print(\"Mean test score:\", max(model_a.cv_results_[\"mean_test_score\"]))\n",
    "print(\"Results:\", model_a.score(X_test, y_test))"
   ]
  },
  {
   "cell_type": "markdown",
   "metadata": {},
   "source": [
    "# Regression"
   ]
  },
  {
   "cell_type": "code",
   "execution_count": null,
   "metadata": {
    "collapsed": true
   },
   "outputs": [],
   "source": [
    "def get_cv_score(model, k):\n",
    "    \n",
    "    '''Gets the three-fold cross validation scores for a regression model.'''\n",
    "    \n",
    "    cv_scores = cross_val_score(model, boston.data, boston.target, cv=k)\n",
    "    print(model)\n",
    "    print(\"CV scores:\", cv_scores)\n",
    "    print(\"Mean CV score:\", np.mean(cv_scores))\n",
    "    print()\n",
    "    \n",
    "    return(np.mean(cv_scores))"
   ]
  },
  {
   "cell_type": "code",
   "execution_count": null,
   "metadata": {
    "collapsed": false
   },
   "outputs": [],
   "source": [
    "models = {\"Ridge\": ridge_reg,\n",
    "         \"Elastic\": elastic_reg,\n",
    "         \"Support Vector\": sv_reg,\n",
    "         \"K-nearest neighbors\": knn_reg,\n",
    "         \"Random Forests\": rf_reg,\n",
    "         \"AdaBoost\": ab_reg,\n",
    "         \"Neural Net\": nn_reg}\n",
    "\n",
    "cv_scores = {model: get_cv_score(models[model], 5) for model in models.keys()}"
   ]
  },
  {
   "cell_type": "code",
   "execution_count": null,
   "metadata": {
    "collapsed": true
   },
   "outputs": [],
   "source": [
    "max_score = max(cv_scores, key=lambda k: cv_scores[k])\n",
    "\n",
    "print(\"Best CV Score:\")\n",
    "print(max_score + \": \" + str(cv_scores[max_score]))\n",
    "print()\n",
    "\n",
    "print(\"Test Results:\")\n",
    "best_model = models[max_score].fit(X_train, y_train)\n",
    "print(best_model.score(X_test, y_test))"
   ]
  },
  {
   "cell_type": "markdown",
   "metadata": {},
   "source": [
    "# Clustering"
   ]
  },
  {
   "cell_type": "code",
   "execution_count": null,
   "metadata": {
    "collapsed": true
   },
   "outputs": [],
   "source": [
    "from sklearn.cluster import DBSCAN\n",
    "\n",
    "dbscan = DBSCAN(eps=.2)\n",
    "dbscan.fit(noisy_moons)\n",
    "zero = np.array([point for label, point in zip(dbscan.labels_, noisy_moons) if label == 0])\n",
    "one = np.array([point for label, point in zip(dbscan.labels_, noisy_moons) if label == 1])\n",
    "\n",
    "fig = plt.figure()\n",
    "ax1 = fig.add_subplot(111)\n",
    "\n",
    "ax1.scatter(*zero.T, s=50, c='b', label='zero')\n",
    "ax1.scatter(*one.T, s=50, c='r', label='one')\n",
    "plt.legend(loc='upper left')\n",
    "plt.show()"
   ]
  }
 ],
 "metadata": {
  "kernelspec": {
   "display_name": "Python 3",
   "language": "python",
   "name": "python3"
  },
  "language_info": {
   "codemirror_mode": {
    "name": "ipython",
    "version": 3
   },
   "file_extension": ".py",
   "mimetype": "text/x-python",
   "name": "python",
   "nbconvert_exporter": "python",
   "pygments_lexer": "ipython3",
   "version": "3.5.1"
  }
 },
 "nbformat": 4,
 "nbformat_minor": 0
}
