{
 "cells": [
  {
   "cell_type": "markdown",
   "metadata": {},
   "source": [
    "# Classification"
   ]
  },
  {
   "cell_type": "markdown",
   "metadata": {},
   "source": [
    "In this unit we will learn different methods for classification using the `scikit-learn` library. We'll start off using short texts collected from the [Universal Periodic Review](https://en.wikipedia.org/wiki/Universal_Periodic_Review), an international human rights mechanism. Each of these texts have an attached *label* or *labels* that pertain to the human rights issue the corresponding text is concerned with.\n",
    "\n",
    "From these texts, we're going to estimate a supervised model that tries to guess the label(s) from the text data. Note that this is a *multilabel* classification problem, because each text may have more than one label, or no label."
   ]
  },
  {
   "cell_type": "code",
   "execution_count": 1,
   "metadata": {
    "collapsed": false
   },
   "outputs": [
    {
     "name": "stderr",
     "output_type": "stream",
     "text": [
      "/Library/Frameworks/Python.framework/Versions/3.5/lib/python3.5/site-packages/sklearn/cross_validation.py:44: DeprecationWarning: This module was deprecated in version 0.18 in favor of the model_selection module into which all the refactored classes and functions are moved. Also note that the interface of the new CV iterators are different from that of this module. This module will be removed in 0.20.\n",
      "  \"This module will be removed in 0.20.\", DeprecationWarning)\n",
      "/Library/Frameworks/Python.framework/Versions/3.5/lib/python3.5/site-packages/sklearn/grid_search.py:43: DeprecationWarning: This module was deprecated in version 0.18 in favor of the model_selection module into which all the refactored classes and functions are moved. This module will be removed in 0.20.\n",
      "  DeprecationWarning)\n"
     ]
    }
   ],
   "source": [
    "import os\n",
    "import re\n",
    "import csv\n",
    "import sys\n",
    "import random\n",
    "from pandas import DataFrame\n",
    "import numpy as np\n",
    "from sklearn.feature_extraction.text import CountVectorizer, TfidfTransformer\n",
    "from sklearn.multiclass import OneVsRestClassifier, OneVsOneClassifier\n",
    "from sklearn.svm import LinearSVC\n",
    "from sklearn import metrics, tree, cross_validation\n",
    "from sklearn.naive_bayes import MultinomialNB\n",
    "from sklearn.linear_model import RandomizedLogisticRegression\n",
    "from sklearn.preprocessing import MultiLabelBinarizer\n",
    "from sklearn.metrics import coverage_error\n",
    "from sklearn.grid_search import GridSearchCV"
   ]
  },
  {
   "cell_type": "markdown",
   "metadata": {},
   "source": [
    "## 1) Load and Preprocess\n",
    "\n",
    "We'll first load in a csv file that contains our texts and their corresponding label(s)."
   ]
  },
  {
   "cell_type": "code",
   "execution_count": 13,
   "metadata": {
    "collapsed": false
   },
   "outputs": [
    {
     "name": "stdout",
     "output_type": "stream",
     "text": [
      "41066\n"
     ]
    }
   ],
   "source": [
    "# read in full csv\n",
    "recs = []\n",
    "with open('data/upr.csv','r') as csvfile:\n",
    "    reader = csv.DictReader(csvfile)\n",
    "    for row in reader:\n",
    "        recs.append(row)\n",
    "print(len(recs))"
   ]
  },
  {
   "cell_type": "markdown",
   "metadata": {},
   "source": [
    "Here are a few of the texts and their labels."
   ]
  },
  {
   "cell_type": "code",
   "execution_count": 14,
   "metadata": {
    "collapsed": false
   },
   "outputs": [
    {
     "name": "stdout",
     "output_type": "stream",
     "text": [
      "Text: Consider the possibility of acceding to the International Covenant on Economic, Social and Cultural Rights and the International Covenant on Civil and Political Rights\n",
      "Labels: CP rights - general,ESC rights - general,International instruments\n",
      "\n",
      "Text: Establish a national institution to promote and protect human rights\n",
      "Labels: NHRI\n",
      "\n",
      "Text: Consider the possibility of establishing a national human rights institution in accordance with the Paris Principles\n",
      "Labels: NHRI\n",
      "\n",
      "Text: Consider the possibility of ratifying the International Covenant on Civil and Political Rights, the International Covenant on Economic, Social and Cultural Rights, the International Convention for the Protection of All Persons from Enforced Disappearance and the Convention on the Rights of Persons with Disabilities\n",
      "Labels: CP rights - general,Disabilities,Enforced disappearances,ESC rights - general,International instruments\n",
      "\n",
      "Text: Continue with the efforts to prevent, punish and eradicate all forms of violence against women\n",
      "Labels: Women's rights\n",
      "\n"
     ]
    }
   ],
   "source": [
    "for x in recs[:5]:\n",
    "    print(\"Text:\", x['Text'])\n",
    "    print(\"Labels:\", x['Issue'])\n",
    "    print()"
   ]
  },
  {
   "cell_type": "markdown",
   "metadata": {},
   "source": [
    "First we'll turn the labels into a list and remove any texts that don't have a label."
   ]
  },
  {
   "cell_type": "code",
   "execution_count": 15,
   "metadata": {
    "collapsed": false
   },
   "outputs": [
    {
     "name": "stdout",
     "output_type": "stream",
     "text": [
      "Number of recs: 39475\n"
     ]
    }
   ],
   "source": [
    "for i in recs:\n",
    "    issues = i['Issue'].split(',')\n",
    "    i['Issue'] = [x for x in issues if x != 'Other' and x != 'General']\n",
    "    \n",
    "rec_sub = [i for i in recs if i['Issue']]\n",
    "print(\"Number of recs:\", len(rec_sub))"
   ]
  },
  {
   "cell_type": "markdown",
   "metadata": {},
   "source": [
    "Now we'll turn our data into a `pandas` DataFrame."
   ]
  },
  {
   "cell_type": "code",
   "execution_count": 19,
   "metadata": {
    "collapsed": false
   },
   "outputs": [
    {
     "name": "stdout",
     "output_type": "stream",
     "text": [
      "(39475, 2)\n"
     ]
    },
    {
     "data": {
      "text/html": [
       "<div>\n",
       "<table border=\"1\" class=\"dataframe\">\n",
       "  <thead>\n",
       "    <tr style=\"text-align: right;\">\n",
       "      <th></th>\n",
       "      <th>Issue</th>\n",
       "      <th>Text</th>\n",
       "    </tr>\n",
       "  </thead>\n",
       "  <tbody>\n",
       "    <tr>\n",
       "      <th>0</th>\n",
       "      <td>[CP rights - general, ESC rights - general, In...</td>\n",
       "      <td>Consider the possibility of acceding to the In...</td>\n",
       "    </tr>\n",
       "    <tr>\n",
       "      <th>1</th>\n",
       "      <td>[NHRI]</td>\n",
       "      <td>Establish a national institution to promote an...</td>\n",
       "    </tr>\n",
       "    <tr>\n",
       "      <th>2</th>\n",
       "      <td>[NHRI]</td>\n",
       "      <td>Consider the possibility of establishing a nat...</td>\n",
       "    </tr>\n",
       "    <tr>\n",
       "      <th>3</th>\n",
       "      <td>[CP rights - general, Disabilities, Enforced d...</td>\n",
       "      <td>Consider the possibility of ratifying the Inte...</td>\n",
       "    </tr>\n",
       "    <tr>\n",
       "      <th>4</th>\n",
       "      <td>[Women's rights]</td>\n",
       "      <td>Continue with the efforts to prevent, punish a...</td>\n",
       "    </tr>\n",
       "  </tbody>\n",
       "</table>\n",
       "</div>"
      ],
      "text/plain": [
       "                                               Issue  \\\n",
       "0  [CP rights - general, ESC rights - general, In...   \n",
       "1                                             [NHRI]   \n",
       "2                                             [NHRI]   \n",
       "3  [CP rights - general, Disabilities, Enforced d...   \n",
       "4                                   [Women's rights]   \n",
       "\n",
       "                                                Text  \n",
       "0  Consider the possibility of acceding to the In...  \n",
       "1  Establish a national institution to promote an...  \n",
       "2  Consider the possibility of establishing a nat...  \n",
       "3  Consider the possibility of ratifying the Inte...  \n",
       "4  Continue with the efforts to prevent, punish a...  "
      ]
     },
     "execution_count": 19,
     "metadata": {},
     "output_type": "execute_result"
    }
   ],
   "source": [
    "data = DataFrame(rec_sub)\n",
    "print(data.shape)\n",
    "\n",
    "data.head()"
   ]
  },
  {
   "cell_type": "markdown",
   "metadata": {},
   "source": [
    "Let's extract the text and label data."
   ]
  },
  {
   "cell_type": "code",
   "execution_count": 21,
   "metadata": {
    "collapsed": true
   },
   "outputs": [],
   "source": [
    "text = data['Text'].values\n",
    "labels = data['Issue'].values"
   ]
  },
  {
   "cell_type": "markdown",
   "metadata": {},
   "source": [
    "We now have to \"binarize\" the labels, meaning that we transform the list of labels into an array of binary indicators: the one, i.e. the non zero elements, corresponds to the subset of labels. For instance, an array such as `np.array([[1, 0, 0], [0, 1, 1], [0, 0, 0]])` represents label 0 in the first sample, labels 1 and 2 in the second sample, and no labels in the third sample. \n",
    "\n",
    "The `MultiLabelBinarizer` transformer can be used to convert between a collection of collections of labels and the indicator format."
   ]
  },
  {
   "cell_type": "code",
   "execution_count": 30,
   "metadata": {
    "collapsed": false
   },
   "outputs": [
    {
     "name": "stdout",
     "output_type": "stream",
     "text": [
      "[[0 1 0 ..., 0 0 0]\n",
      " [0 0 0 ..., 0 0 0]\n",
      " [0 0 0 ..., 0 0 0]\n",
      " ..., \n",
      " [0 0 0 ..., 0 0 0]\n",
      " [0 0 0 ..., 0 0 0]\n",
      " [0 0 0 ..., 0 0 0]]\n"
     ]
    }
   ],
   "source": [
    "mlb = MultiLabelBinarizer()\n",
    "labels_binary = mlb.fit_transform(labels)\n",
    "print(labels_binary)"
   ]
  },
  {
   "cell_type": "markdown",
   "metadata": {},
   "source": [
    "We're now ready to extract our `X_train, X_test, y_train, y_test`:"
   ]
  },
  {
   "cell_type": "code",
   "execution_count": 43,
   "metadata": {
    "collapsed": false
   },
   "outputs": [
    {
     "name": "stdout",
     "output_type": "stream",
     "text": [
      "Number of training data observations: 31580\n"
     ]
    }
   ],
   "source": [
    "X_train, X_test, y_train, y_test = cross_validation.train_test_split(\n",
    "    text, labels_binary, test_size=0.2, random_state=40)\n",
    "print(\"Number of training data observations:\", len(X_train))"
   ]
  },
  {
   "cell_type": "markdown",
   "metadata": {},
   "source": [
    "For each observation, `X` is the text, and `y` is the corresponding array of labels."
   ]
  },
  {
   "cell_type": "code",
   "execution_count": 44,
   "metadata": {
    "collapsed": false
   },
   "outputs": [
    {
     "name": "stdout",
     "output_type": "stream",
     "text": [
      "Text: Maintain its commitment to improve the quality of education to ensure the full enjoyment of the right to education\n",
      "Labels: [0 0 0 0 0 0 0 0 0 0 0 0 0 0 0 0 0 0 0 0 0 0 0 0 0 0 0 0 0 0 0 0 0 0 0 0 0\n",
      " 1 0 0 0 0 0 0 0 0 0 0 0 0 0 0]\n",
      "\n",
      "Text: Incorporate into the new plans the need for a unified register of cases of violence against women, and to increase efforts to combat that scourge and impunity for those who commit such acts, and in particular to consider criminalizing the crime of femicide\n",
      "Labels: [0 0 0 0 0 0 0 0 0 0 0 0 0 0 0 0 0 0 0 0 0 0 0 1 0 0 0 0 0 0 0 0 0 0 0 0 0\n",
      " 0 0 0 0 0 0 0 0 0 0 0 0 0 0 1]\n",
      "\n",
      "Text: Make necessary amendments to the national legislation in order to bring it into line with international obligations and commitments for the protection of children and in particular for their protection against sexual abuses, as well as against trafficking of persons\n",
      "Labels: [0 0 0 0 0 0 0 0 0 0 0 0 0 0 0 0 0 0 0 0 0 0 0 0 0 0 0 0 0 0 0 0 0 0 0 0 0\n",
      " 0 0 0 0 0 0 1 0 0 0 0 1 0 0 0]\n",
      "\n",
      "Text: Strengthen actions to ensure the effective implementation of laws against discrimination, in particular discrimination based on sexual orientation\n",
      "Labels: [0 0 0 0 0 0 0 0 0 0 0 0 0 0 0 0 0 0 0 0 0 0 0 0 0 0 0 0 0 0 0 0 0 0 0 0 0\n",
      " 0 0 0 0 0 0 0 1 0 0 0 0 0 0 0]\n",
      "\n",
      "Text: Change its domestic laws to make confessions obtained under torture inadmissible as evidence in criminal court proceedings against the person who confessed.\n",
      "Labels: [0 0 0 0 0 0 0 0 0 0 0 0 0 0 0 0 0 0 0 0 0 0 0 0 0 0 0 0 0 0 0 0 0 0 0 0 0\n",
      " 0 0 0 0 0 0 0 0 0 0 1 0 0 0 0]\n",
      "\n"
     ]
    }
   ],
   "source": [
    "for x in range(5):\n",
    "    print(\"Text:\", X_train[x])\n",
    "    print(\"Labels:\", y_train[x])\n",
    "    print()"
   ]
  },
  {
   "cell_type": "markdown",
   "metadata": {},
   "source": [
    "Here are the labels we have:"
   ]
  },
  {
   "cell_type": "code",
   "execution_count": 47,
   "metadata": {
    "collapsed": false
   },
   "outputs": [
    {
     "name": "stdout",
     "output_type": "stream",
     "text": [
      "['Asylum-seekers - refugees', 'CP rights - general', 'Civil society', 'Corruption', 'Counter-terrorism', 'Death penalty', 'Detention', 'Development', 'Disabilities', 'ESC rights - general', 'Elections', 'Enforced disappearances', 'Environment', 'Extrajudicial executions', 'Freedom of association and peaceful assembly', 'Freedom of movement', 'Freedom of opinion and expression', 'Freedom of religion and belief', 'Freedom of the press', 'HIV - Aids', 'Human rights defenders', 'Human rights education and training', 'Human rights violations by state agents', 'Impunity', 'Indigenous peoples', 'Internally displaced persons', 'International humanitarian law', 'International instruments', 'Justice', 'Labour', 'Migrants', 'Minorities', 'NHRI', 'National plan of action', 'Poverty', 'Public security', 'Racial discrimination', 'Right to education', 'Right to food', 'Right to health', 'Right to housing', 'Right to land', 'Right to water', 'Rights of the Child', 'Sexual Orientation and Gender Identity', 'Special procedures', 'Technical assistance and cooperation', 'Torture and other CID treatment', 'Trafficking', 'Treaty bodies', 'UPR process', \"Women's rights\"]\n"
     ]
    }
   ],
   "source": [
    "label_names = list(mlb.classes_)\n",
    "print(label_names)"
   ]
  },
  {
   "cell_type": "markdown",
   "metadata": {},
   "source": [
    "## 2) Pipelines\n",
    "\n",
    "Machine learning often involves a fixed sequence of steps for processing the data, for example feature selection, normalization and classification. \n",
    "\n",
    "Scikit-learn includes a [Pipeline](http://scikit-learn.org/stable/modules/pipeline.html) structure to help with this. Pipelines serve 2 purposes:\n",
    "\n",
    "1. **Convenience:** You only have to call fit and predict once on your data to fit a whole sequence of estimators.\n",
    "2. **Joint parameter selection**: You can [grid search](http://scikit-learn.org/stable/modules/grid_search.html#grid-search) over parameters of all estimators in the pipeline at once.\n",
    "\n",
    "We'll build a pipeline with a Support Vector Machine."
   ]
  },
  {
   "cell_type": "code",
   "execution_count": 49,
   "metadata": {
    "collapsed": true
   },
   "outputs": [],
   "source": [
    "from sklearn.pipeline import Pipeline\n",
    "text_clf = Pipeline([('vect', CountVectorizer(ngram_range=(1, 2))),\n",
    "                    ('tfidf', TfidfTransformer()),\n",
    "                    ('clf', OneVsRestClassifier(LinearSVC(random_state=0)))\n",
    "                     ])"
   ]
  },
  {
   "cell_type": "markdown",
   "metadata": {},
   "source": [
    "Now we'll fit the model using our pipeline."
   ]
  },
  {
   "cell_type": "code",
   "execution_count": 50,
   "metadata": {
    "collapsed": true
   },
   "outputs": [],
   "source": [
    "clf = text_clf.fit(X_train, y_train)"
   ]
  },
  {
   "cell_type": "markdown",
   "metadata": {},
   "source": [
    "## 3) Predicting\n",
    "\n",
    "Now we can use our trained model to predict the held-out \"test\" set. Better yet, there's no need to explicitly extract features or preprocess the data, since it uses the same pipeline as the training sequence."
   ]
  },
  {
   "cell_type": "code",
   "execution_count": 57,
   "metadata": {
    "collapsed": false
   },
   "outputs": [
    {
     "data": {
      "text/plain": [
       "0.7584547181760608"
      ]
     },
     "execution_count": 57,
     "metadata": {},
     "output_type": "execute_result"
    }
   ],
   "source": [
    "predicted = clf.predict(X_test)\n",
    "clf.score(X_test, y_test) "
   ]
  },
  {
   "cell_type": "code",
   "execution_count": 52,
   "metadata": {
    "collapsed": false
   },
   "outputs": [
    {
     "data": {
      "text/plain": [
       "0.99388853704876501"
      ]
     },
     "execution_count": 52,
     "metadata": {},
     "output_type": "execute_result"
    }
   ],
   "source": [
    "# mean agreement\n",
    "# what does this mean?\n",
    "np.mean(predicted == y_test)"
   ]
  },
  {
   "cell_type": "markdown",
   "metadata": {},
   "source": [
    "Let's look at a few of the test texts and see what labels our model predicted:"
   ]
  },
  {
   "cell_type": "code",
   "execution_count": 58,
   "metadata": {
    "collapsed": false
   },
   "outputs": [
    {
     "name": "stdout",
     "output_type": "stream",
     "text": [
      "\"Take stronger measures to combat discrimination in both the public and private sectors while promoting greater women's participation at the highest levels of decision-making\" => Women's rights\n",
      "\n",
      "'Submit all pending reports to the respective United Nations treaty bodies, namely, the Committee on Economic, Social and Cultural Rights, the Human Rights Committee and the Committee on the Rights of the Child' => ESC rights - general, Treaty bodies\n",
      "\n",
      "'Ratify CRPD' => Disabilities, International instruments\n",
      "\n",
      "'Ensure that the new Constitution fully guarantees the right to freedom of religion or belief and the right to equality and non-discrimination in line with international standards' => Freedom of religion and belief\n",
      "\n",
      "'Establish a moratorium on executions with a view to abolishing the death penalty' => Death penalty\n",
      "\n"
     ]
    }
   ],
   "source": [
    "for doc, label in zip(list(X_test[:5]), predicted[:5]):\n",
    "    print('%r => %s' % (doc, \", \".join(list(np.array(label_names)[label==1]))))\n",
    "    print()"
   ]
  },
  {
   "cell_type": "markdown",
   "metadata": {},
   "source": [
    "Here are some metrics that show how well our model does on individual labels:"
   ]
  },
  {
   "cell_type": "code",
   "execution_count": 60,
   "metadata": {
    "collapsed": false
   },
   "outputs": [
    {
     "name": "stdout",
     "output_type": "stream",
     "text": [
      "                                              precision    recall  f1-score   support\n",
      "\n",
      "                   Asylum-seekers - refugees       0.95      0.80      0.87       120\n",
      "                         CP rights - general       0.88      0.79      0.83       115\n",
      "                               Civil society       0.93      0.88      0.91       155\n",
      "                                  Corruption       0.95      0.85      0.90        47\n",
      "                           Counter-terrorism       1.00      0.65      0.79        26\n",
      "                               Death penalty       0.99      0.94      0.96       379\n",
      "                                   Detention       0.93      0.89      0.91       471\n",
      "                                 Development       0.80      0.58      0.67       179\n",
      "                                Disabilities       0.96      0.95      0.96       283\n",
      "                        ESC rights - general       0.90      0.80      0.85       228\n",
      "                                   Elections       0.95      0.73      0.83        49\n",
      "                     Enforced disappearances       0.96      0.93      0.95       146\n",
      "                                 Environment       0.94      0.55      0.69        31\n",
      "                    Extrajudicial executions       0.97      0.79      0.87        47\n",
      "Freedom of association and peaceful assembly       0.97      0.71      0.82       153\n",
      "                         Freedom of movement       0.92      0.52      0.67        21\n",
      "           Freedom of opinion and expression       0.98      0.86      0.92       271\n",
      "              Freedom of religion and belief       0.91      0.80      0.85       199\n",
      "                        Freedom of the press       0.95      0.86      0.91       206\n",
      "                                  HIV - Aids       1.00      0.89      0.94        57\n",
      "                      Human rights defenders       0.98      0.90      0.94       137\n",
      "         Human rights education and training       0.85      0.81      0.83       327\n",
      "     Human rights violations by state agents       0.81      0.67      0.73        92\n",
      "                                    Impunity       0.94      0.99      0.96        81\n",
      "                          Indigenous peoples       0.99      0.88      0.93       162\n",
      "                Internally displaced persons       1.00      0.74      0.85        39\n",
      "              International humanitarian law       0.89      0.67      0.76        97\n",
      "                   International instruments       0.97      0.96      0.97      1654\n",
      "                                     Justice       0.91      0.74      0.82       655\n",
      "                                      Labour       0.95      0.80      0.87       369\n",
      "                                    Migrants       0.97      0.88      0.92       358\n",
      "                                  Minorities       0.96      0.77      0.85       373\n",
      "                                        NHRI       0.99      0.92      0.95       329\n",
      "                     National plan of action       0.83      0.89      0.86       101\n",
      "                                     Poverty       0.92      0.92      0.92       168\n",
      "                             Public security       0.90      0.17      0.29        52\n",
      "                       Racial discrimination       0.91      0.78      0.84       328\n",
      "                          Right to education       0.87      0.86      0.86       430\n",
      "                               Right to food       0.96      0.82      0.89        57\n",
      "                             Right to health       0.88      0.84      0.86       244\n",
      "                            Right to housing       0.68      0.45      0.54        42\n",
      "                               Right to land       0.70      0.52      0.59        31\n",
      "                              Right to water       0.92      0.85      0.88        40\n",
      "                         Rights of the Child       0.96      0.92      0.94      1470\n",
      "      Sexual Orientation and Gender Identity       1.00      0.94      0.97       187\n",
      "                          Special procedures       0.99      0.95      0.97       297\n",
      "        Technical assistance and cooperation       0.84      0.74      0.79       199\n",
      "             Torture and other CID treatment       0.97      0.95      0.96       615\n",
      "                                 Trafficking       0.99      0.95      0.97       288\n",
      "                               Treaty bodies       0.94      0.87      0.91       230\n",
      "                                 UPR process       0.90      0.80      0.85       111\n",
      "                              Women's rights       0.97      0.94      0.96      1511\n",
      "\n",
      "                                 avg / total       0.94      0.87      0.91     14257\n",
      "\n"
     ]
    }
   ],
   "source": [
    "print(metrics.classification_report(y_test, predicted,\n",
    "    target_names=label_names)) "
   ]
  },
  {
   "cell_type": "markdown",
   "metadata": {},
   "source": [
    "## 4) Cross Validation and Grid Search\n",
    "\n",
    "`scikit-learn` can be used differently depending on the task. It allows the user to build a basic single model from scratch, but also includes a grid-search function and cross-validation for more sophisticated exploration."
   ]
  },
  {
   "cell_type": "markdown",
   "metadata": {},
   "source": [
    "Here are the cross validation scores for our model:"
   ]
  },
  {
   "cell_type": "code",
   "execution_count": 61,
   "metadata": {
    "collapsed": false
   },
   "outputs": [
    {
     "data": {
      "text/plain": [
       "array([ 0.74122863,  0.73552882,  0.7409753 ,  0.72868904,  0.74756175])"
      ]
     },
     "execution_count": 61,
     "metadata": {},
     "output_type": "execute_result"
    }
   ],
   "source": [
    "## cross validation\n",
    "scores = cross_validation.cross_val_score(\n",
    "   text_clf, text, labels_binary, cv=5)\n",
    "scores"
   ]
  },
  {
   "cell_type": "markdown",
   "metadata": {},
   "source": [
    "Now we'll use a grid search to try out different parameters. In this instance we're going to see what happens with different ngram ranges, and with and without tfidf."
   ]
  },
  {
   "cell_type": "code",
   "execution_count": 65,
   "metadata": {
    "collapsed": true
   },
   "outputs": [],
   "source": [
    "parameters = {'vect__ngram_range': [(1, 1), (1, 2), (1,3)],\n",
    "              'tfidf__use_idf': (True, False),\n",
    "}\n",
    "gs_clf = GridSearchCV(text_clf, parameters, n_jobs=-1)\n",
    "gs_clf = gs_clf.fit(X_train, y_train)"
   ]
  },
  {
   "cell_type": "markdown",
   "metadata": {},
   "source": [
    "What are the best parameters?"
   ]
  },
  {
   "cell_type": "code",
   "execution_count": 63,
   "metadata": {
    "collapsed": false
   },
   "outputs": [
    {
     "name": "stdout",
     "output_type": "stream",
     "text": [
      "tfidf__use_idf: True\n",
      "vect__ngram_range: (1, 2)\n"
     ]
    }
   ],
   "source": [
    "best_parameters, score, _ = max(gs_clf.grid_scores_, key=lambda x: x[1])\n",
    "for param_name in sorted(parameters.keys()):\n",
    "    print(\"%s: %r\" % (param_name, best_parameters[param_name]))"
   ]
  },
  {
   "cell_type": "markdown",
   "metadata": {},
   "source": [
    "We can also see the cross validation scores for all the models:"
   ]
  },
  {
   "cell_type": "code",
   "execution_count": 66,
   "metadata": {
    "collapsed": false
   },
   "outputs": [
    {
     "data": {
      "text/plain": [
       "[mean: 0.72970, std: 0.00508, params: {'vect__ngram_range': (1, 1), 'tfidf__use_idf': True},\n",
       " mean: 0.73284, std: 0.00197, params: {'vect__ngram_range': (1, 2), 'tfidf__use_idf': True},\n",
       " mean: 0.72217, std: 0.00214, params: {'vect__ngram_range': (1, 3), 'tfidf__use_idf': True},\n",
       " mean: 0.71482, std: 0.00466, params: {'vect__ngram_range': (1, 1), 'tfidf__use_idf': False},\n",
       " mean: 0.72289, std: 0.00223, params: {'vect__ngram_range': (1, 2), 'tfidf__use_idf': False},\n",
       " mean: 0.72131, std: 0.00241, params: {'vect__ngram_range': (1, 3), 'tfidf__use_idf': False}]"
      ]
     },
     "execution_count": 66,
     "metadata": {},
     "output_type": "execute_result"
    }
   ],
   "source": [
    "gs_clf.grid_scores_"
   ]
  },
  {
   "cell_type": "code",
   "execution_count": null,
   "metadata": {
    "collapsed": true
   },
   "outputs": [],
   "source": []
  }
 ],
 "metadata": {
  "kernelspec": {
   "display_name": "Python 3",
   "language": "python",
   "name": "python3"
  },
  "language_info": {
   "codemirror_mode": {
    "name": "ipython",
    "version": 3
   },
   "file_extension": ".py",
   "mimetype": "text/x-python",
   "name": "python",
   "nbconvert_exporter": "python",
   "pygments_lexer": "ipython3",
   "version": "3.5.1"
  }
 },
 "nbformat": 4,
 "nbformat_minor": 0
}
